{
 "cells": [
  {
   "cell_type": "markdown",
   "source": [
    "# Training Script for BERT\n",
    "This notebook is used to train BERT on comments or on posts from data obtained from the subreddit r/amITheAsshole. Change the config file to train the model on posts or on comments.\n",
    "We provided two config files similar to the ones used to obtain our model results\n",
    "- `config_comments.json` to train the comments\n",
    "- `config_posts.json` to train the posts"
   ],
   "metadata": {
    "collapsed": false,
    "pycharm": {
     "name": "#%% md\n"
    }
   }
  },
  {
   "cell_type": "code",
   "execution_count": 1,
   "metadata": {
    "collapsed": true,
    "pycharm": {
     "name": "#%%\n"
    }
   },
   "outputs": [],
   "source": [
    "import copy\n",
    "import datetime\n",
    "import json\n",
    "import os.path\n",
    "import random\n",
    "import time\n",
    "import pprint\n",
    "from aita.datasets import AITADatasetBERT\n",
    "import numpy as np\n",
    "import torch\n",
    "from aita.utils import format_time\n",
    "from torch.utils.data import DataLoader, RandomSampler, SequentialSampler\n",
    "from torch.utils.data import random_split\n",
    "from transformers import BertForSequenceClassification, AdamW\n",
    "from transformers import BertTokenizer\n",
    "from transformers import get_linear_schedule_with_warmup\n",
    "from aita.utils.metrics import Metrics\n",
    "pp = pprint.PrettyPrinter(indent=4)\n"
   ]
  },
  {
   "cell_type": "markdown",
   "source": [
    "# Device Config"
   ],
   "metadata": {
    "collapsed": false,
    "pycharm": {
     "name": "#%% md\n"
    }
   }
  },
  {
   "cell_type": "code",
   "execution_count": 2,
   "outputs": [
    {
     "name": "stdout",
     "output_type": "stream",
     "text": [
      "There are 1 GPU(s) available.\n",
      "We will use the GPU: NVIDIA GeForce GTX 1050 Ti with Max-Q Design\n"
     ]
    }
   ],
   "source": [
    "\n",
    "# If there's a GPU available...\n",
    "if torch.cuda.is_available():\n",
    "\n",
    "    # Tell PyTorch to use the GPU.\n",
    "    device = torch.device(\"cuda\")\n",
    "\n",
    "    print('There are %d GPU(s) available.' % torch.cuda.device_count())\n",
    "\n",
    "    print('We will use the GPU:', torch.cuda.get_device_name(0))\n",
    "\n",
    "# If not...\n",
    "else:\n",
    "    print('No GPU available, using the CPU instead.')\n",
    "    device = torch.device(\"cpu\")"
   ],
   "metadata": {
    "collapsed": false,
    "pycharm": {
     "name": "#%%\n"
    }
   }
  },
  {
   "cell_type": "markdown",
   "source": [
    "# Prepare Dataset"
   ],
   "metadata": {
    "collapsed": false,
    "pycharm": {
     "name": "#%% md\n"
    }
   }
  },
  {
   "cell_type": "markdown",
   "source": [
    "## Load Config File"
   ],
   "metadata": {
    "collapsed": false,
    "pycharm": {
     "name": "#%% md\n"
    }
   }
  },
  {
   "cell_type": "code",
   "execution_count": 3,
   "outputs": [
    {
     "name": "stdout",
     "output_type": "stream",
     "text": [
      "{   'batch_size': 2,\n",
      "    'dataset_path': 'data/posts.csv',\n",
      "    'epochs': 3,\n",
      "    'eps': 1e-08,\n",
      "    'lr': 2e-05,\n",
      "    'model_name': 'model_comments.pt',\n",
      "    'model_path': 'model_weights',\n",
      "    'model_weights': 'model_weights/last_model_posts.pt',\n",
      "    'token_length': 512,\n",
      "    'undersample': True,\n",
      "    'warmup_steps': 100}\n"
     ]
    }
   ],
   "source": [
    "config_file = open('training_config.json')\n",
    "config = json.load(config_file)\n",
    "pp.pprint(config)"
   ],
   "metadata": {
    "collapsed": false,
    "pycharm": {
     "name": "#%%\n"
    }
   }
  },
  {
   "cell_type": "code",
   "execution_count": 4,
   "outputs": [
    {
     "name": "stdout",
     "output_type": "stream",
     "text": [
      "Training Dataset Size: 8053, Validation Dataset Size: 895\n"
     ]
    }
   ],
   "source": [
    "tokenizer = BertTokenizer.from_pretrained('bert-base-uncased', do_lower_case=True)\n",
    "dataset = AITADatasetBERT(dataset_path=config['dataset_path'],tokenizer=tokenizer, max_token_length=config['token_length'], undersample=config['undersample'])\n",
    "\n",
    "train_size = int(0.9 * len(dataset))\n",
    "val_size = len(dataset) - train_size\n",
    "\n",
    "train_dataset, val_dataset = random_split(dataset, [train_size, val_size])\n",
    "\n",
    "train_dataloader = DataLoader(train_dataset,  # The training samples.\n",
    "                              sampler=RandomSampler(train_dataset),  # Select batches randomly\n",
    "                              batch_size=config[\"batch_size\"])\n",
    "\n",
    "validation_dataloader = DataLoader(val_dataset,  # The validation samples.\n",
    "                                   sampler=SequentialSampler(val_dataset),  # Pull out batches sequentially.\n",
    "                                   batch_size=config[\"batch_size\"])\n",
    "print(f\"Training Dataset Size: {len(train_dataset)}, Validation Dataset Size: {len(val_dataset)}\")"
   ],
   "metadata": {
    "collapsed": false,
    "pycharm": {
     "name": "#%%\n"
    }
   }
  },
  {
   "cell_type": "markdown",
   "source": [
    "# Prepare Model"
   ],
   "metadata": {
    "collapsed": false,
    "pycharm": {
     "name": "#%% md\n"
    }
   }
  },
  {
   "cell_type": "code",
   "execution_count": 5,
   "outputs": [
    {
     "name": "stderr",
     "output_type": "stream",
     "text": [
      "Some weights of the model checkpoint at bert-base-uncased were not used when initializing BertForSequenceClassification: ['cls.seq_relationship.weight', 'cls.predictions.bias', 'cls.predictions.decoder.weight', 'cls.seq_relationship.bias', 'cls.predictions.transform.dense.weight', 'cls.predictions.transform.LayerNorm.bias', 'cls.predictions.transform.LayerNorm.weight', 'cls.predictions.transform.dense.bias']\n",
      "- This IS expected if you are initializing BertForSequenceClassification from the checkpoint of a model trained on another task or with another architecture (e.g. initializing a BertForSequenceClassification model from a BertForPreTraining model).\n",
      "- This IS NOT expected if you are initializing BertForSequenceClassification from the checkpoint of a model that you expect to be exactly identical (initializing a BertForSequenceClassification model from a BertForSequenceClassification model).\n",
      "Some weights of BertForSequenceClassification were not initialized from the model checkpoint at bert-base-uncased and are newly initialized: ['classifier.bias', 'classifier.weight']\n",
      "You should probably TRAIN this model on a down-stream task to be able to use it for predictions and inference.\n",
      "/home/zain/.local/lib/python3.9/site-packages/transformers/optimization.py:306: FutureWarning: This implementation of AdamW is deprecated and will be removed in a future version. Use the PyTorch implementation torch.optim.AdamW instead, or set `no_deprecation_warning=True` to disable this warning\n",
      "  warnings.warn(\n"
     ]
    }
   ],
   "source": [
    "model = BertForSequenceClassification.from_pretrained(\n",
    "    'bert-base-uncased',\n",
    "    num_labels=2,\n",
    "    output_attentions=False,\n",
    "    output_hidden_states=False\n",
    ")\n",
    "\n",
    "optimizer = AdamW(model.parameters(),\n",
    "                  lr=config[\"lr\"],  # args.learning_rate - default is 5e-5, our notebook had 2e-5\n",
    "                  eps=config[\"eps\"]  # args.adam_epsilon  - default is 1e-8.\n",
    "                  )"
   ],
   "metadata": {
    "collapsed": false,
    "pycharm": {
     "name": "#%%\n"
    }
   }
  },
  {
   "cell_type": "markdown",
   "source": [
    "## Initialize Scheduler"
   ],
   "metadata": {
    "collapsed": false,
    "pycharm": {
     "name": "#%% md\n"
    }
   }
  },
  {
   "cell_type": "code",
   "execution_count": 6,
   "outputs": [],
   "source": [
    "epochs = config['epochs']\n",
    "total_steps = len(train_dataloader) * epochs\n",
    "scheduler = get_linear_schedule_with_warmup(optimizer,\n",
    "                                                num_warmup_steps=config[\"warmup_steps\"],\n",
    "                                            num_training_steps=total_steps)"
   ],
   "metadata": {
    "collapsed": false,
    "pycharm": {
     "name": "#%%\n"
    }
   }
  },
  {
   "cell_type": "markdown",
   "source": [],
   "metadata": {
    "collapsed": false,
    "pycharm": {
     "name": "#%% md\n"
    }
   }
  },
  {
   "cell_type": "markdown",
   "source": [
    "# Training"
   ],
   "metadata": {
    "collapsed": false,
    "pycharm": {
     "name": "#%% md\n"
    }
   }
  },
  {
   "cell_type": "code",
   "execution_count": 7,
   "outputs": [],
   "source": [
    "def train_step(train_dataloader, model, t0, device, optimizer, scheduler):\n",
    "\n",
    "    total_train_loss = 0\n",
    "    training_metrics = Metrics()\n",
    "    for step, batch in enumerate(train_dataloader):\n",
    "        # Progress update every 400 batches.\n",
    "        if step % 10 == 0 and not step == 0:\n",
    "            # Calculate elapsed time in minutes.\n",
    "            elapsed = format_time(time.time() - t0)\n",
    "\n",
    "            # Report progress.\n",
    "            print('  Batch {:>5,}  of  {:>5,}.    Elapsed: {:}.'.format(step, len(train_dataloader), elapsed))\n",
    "\n",
    "        # Unpack this training batch from our dataloader.\n",
    "        #\n",
    "        # As we unpack the batch, we'll also copy each tensor to the defined defice using the\n",
    "        # `to` method.\n",
    "        #\n",
    "        # `batch` contains three pytorch tensors:\n",
    "        #   [0]: input ids\n",
    "        #   [1]: attention masks\n",
    "        #   [2]: labels\n",
    "        b_input_ids = batch[0].to(device)\n",
    "        b_input_mask = batch[1].to(device)\n",
    "        b_labels = batch[2].to(device)\n",
    "\n",
    "        model.zero_grad()\n",
    "\n",
    "        # from documentation the loss used here is CrossEntropy the model returns the loss\n",
    "        loss, logits = model(b_input_ids,\n",
    "                             token_type_ids=None,\n",
    "                             attention_mask=b_input_mask,\n",
    "                             labels=b_labels,\n",
    "                             return_dict=False)\n",
    "\n",
    "        total_train_loss += loss.item()\n",
    "\n",
    "        logits = logits.detach().to(\"cpu\").numpy()\n",
    "        label_ids = b_labels.to('cpu').numpy()\n",
    "\n",
    "        pred_flat = np.argmax(logits, axis=1).flatten().astype(np.float32)\n",
    "        labels_flat = label_ids[:, 1].flatten().astype(np.float32)\n",
    "        training_metrics.update_metrics(labels_flat, pred_flat)\n",
    "        # Calculate the accuracy for this batch of train sentences, and accumulate it over all batches.\n",
    "\n",
    "        # Perform a backward pass to calculate the gradients.\n",
    "        loss.backward()\n",
    "\n",
    "        # Clip the norm of the gradients to 1.0.\n",
    "        # This is to help prevent the \"exploding gradients\" problem.\n",
    "        torch.nn.utils.clip_grad_norm_(model.parameters(), 1.0)\n",
    "\n",
    "        # Update parameters and take a step using the computed gradient.\n",
    "        optimizer.step()\n",
    "\n",
    "        # Update the learning rate.\n",
    "        scheduler.step()\n",
    "    return total_train_loss / len(train_dataloader), training_metrics.calculate_metrics()"
   ],
   "metadata": {
    "collapsed": false,
    "pycharm": {
     "name": "#%%\n"
    }
   }
  },
  {
   "cell_type": "code",
   "execution_count": 8,
   "outputs": [],
   "source": [
    "def validation_step(validation_dataloader, model, device):\n",
    "    total_validation_loss = 0\n",
    "    validation_metrics = Metrics()\n",
    "\n",
    "    for batch in validation_dataloader:\n",
    "\n",
    "        # Unpack this training batch from our dataloader.\n",
    "        #\n",
    "        # As we unpack the batch, we'll also copy each tensor to the GPU using\n",
    "        # the `to` method.\n",
    "        #\n",
    "        # `batch` contains three pytorch tensors:\n",
    "        #   [0]: input ids\n",
    "        #   [1]: attention masks\n",
    "        #   [2]: labels\n",
    "\n",
    "        b_input_ids = batch[0].to(device)\n",
    "        b_input_mask = batch[1].to(device)\n",
    "        b_labels = batch[2].to(device)\n",
    "\n",
    "        # Tell pytorch not to bother with constructing the compute graph during\n",
    "        # the forward pass, since this is only needed for backprop (training).\n",
    "        with torch.no_grad():\n",
    "            # Forward pass, calculate logit predictions.\n",
    "            # token_type_ids is the same as the \"segment ids\", which\n",
    "            # differentiates sentence 1 and 2 in 2-sentence tasks.\n",
    "            # The documentation for this `model` function is here:\n",
    "            # https://huggingface.co/transformers/v2.2.0/model_doc/bert.html#transformers.BertForSequenceClassification\n",
    "            # Get the \"logits\" output by the model. The \"logits\" are the output\n",
    "            # values prior to applying an activation function like the softmax.\n",
    "            (loss, logits) = model(b_input_ids,\n",
    "                                   token_type_ids=None,\n",
    "                                   attention_mask=b_input_mask,\n",
    "                                   labels=b_labels,\n",
    "                                   return_dict=False)\n",
    "\n",
    "            total_validation_loss += loss\n",
    "\n",
    "            # Move logits and labels to CPU\n",
    "            logits = logits.detach().to('cpu').numpy()\n",
    "            label_ids = b_labels.to('cpu').numpy()\n",
    "\n",
    "            pred_flat = np.argmax(logits, axis=1).flatten().astype(np.float32)\n",
    "            labels_flat = label_ids[:, 1].flatten().astype(np.float32)\n",
    "            validation_metrics.update_metrics(labels_flat, pred_flat)\n",
    "\n",
    "    return total_validation_loss / len(validation_dataloader), validation_metrics.calculate_metrics()\n",
    "\n"
   ],
   "metadata": {
    "collapsed": false,
    "pycharm": {
     "name": "#%%\n"
    }
   }
  },
  {
   "cell_type": "code",
   "execution_count": 9,
   "outputs": [
    {
     "name": "stdout",
     "output_type": "stream",
     "text": [
      "\n",
      "======== Epoch 1 / 3 ========\n",
      "Training...\n",
      "\n",
      "Running Validation...\n",
      "\n",
      "  Validation Metrics:  {'accuracy': 0.5066964, 'precision': 0.5066964, 'recall': 1.0, 'f1': 0.59226286, 'MCC': 0.0}\n",
      "  Average validaton loss: 0.7031\n",
      "  Validation epoch took: 0:01:09\n",
      "\n",
      "======== Epoch 2 / 3 ========\n",
      "Training...\n",
      "\n",
      "Running Validation...\n",
      "\n",
      "  Validation Metrics:  {'accuracy': 0.5066964, 'precision': 0.5066964, 'recall': 1.0, 'f1': 0.59226286, 'MCC': 0.0}\n",
      "  Average validaton loss: 0.7031\n",
      "  Validation epoch took: 0:01:11\n",
      "\n",
      "======== Epoch 3 / 3 ========\n",
      "Training...\n",
      "\n",
      "Running Validation...\n",
      "\n",
      "  Validation Metrics:  {'accuracy': 0.5066964, 'precision': 0.5066964, 'recall': 1.0, 'f1': 0.59226286, 'MCC': 0.0}\n",
      "  Average validaton loss: 0.7031\n",
      "  Validation epoch took: 0:01:11\n"
     ]
    }
   ],
   "source": [
    "model.cuda()\n",
    "\n",
    "seed_val = 42\n",
    "\n",
    "random.seed(seed_val)\n",
    "np.random.seed(seed_val)\n",
    "torch.manual_seed(seed_val)\n",
    "torch.cuda.manual_seed_all(seed_val)\n",
    "\n",
    "training_stats = []\n",
    "total_t0 = time.time()\n",
    "\n",
    "best_val_acc, best_val_loss = 0, torch.finfo(torch.float32).max\n",
    "\n",
    "model_full_path = os.path.join(config['model_path'], config['model_name'])\n",
    "for epoch_i in range(epochs):\n",
    "\n",
    "    print(\"\")\n",
    "    print('======== Epoch {:} / {:} ========'.format(epoch_i + 1, epochs))\n",
    "    print('Training...')\n",
    "    t0 = time.time()\n",
    "\n",
    "    total_train_loss = 0\n",
    "    total_train_accuracy = 0\n",
    "\n",
    "    # set model to train\n",
    "    model.train()\n",
    "    # For each batch of training data...\n",
    "    training_loss, training_metrics = train_step(train_dataloader=train_dataloader,\n",
    "                                           device=device, t0=t0,\n",
    "                                           model=model,\n",
    "                                           optimizer=optimizer,\n",
    "                                           scheduler=scheduler)\n",
    "\n",
    "    training_time = format_time(time.time() - t0)\n",
    "\n",
    "    print(\"\")\n",
    "    print(\"  Training Metrics: \", training_metrics)\n",
    "    print(\"  Average training loss: {0:.4f}\".format(training_loss))\n",
    "    print(\"  Training epcoh took: {:}\".format(training_time))\n",
    "\n",
    "    # validation step\n",
    "\n",
    "    print(\"\")\n",
    "    print(\"Running Validation...\")\n",
    "\n",
    "    t0 = time.time()\n",
    "\n",
    "    # Put the model in evaluation mode -- the dropout layers behave differently during evaluation.\n",
    "    model.eval()\n",
    "    avg_val_loss, validation_metrics = validation_step(model=model,\n",
    "                                                          validation_dataloader=validation_dataloader,\n",
    "                                                          device=device)\n",
    "\n",
    "    validation_time = format_time(time.time() - t0)\n",
    "    avg_val_accuracy = validation_metrics[\"accuracy\"]\n",
    "    print(\"\")\n",
    "    print(\"  Validation Metrics: \", validation_metrics)\n",
    "    print(\"  Average validaton loss: {0:.4f}\".format(avg_val_loss))\n",
    "    print(\"  Validation epoch took: {:}\".format(validation_time))\n",
    "\n",
    "    if avg_val_accuracy > best_val_acc and avg_val_loss < best_val_loss:\n",
    "        best_val_acc = avg_val_accuracy\n",
    "        best_val_loss = avg_val_loss\n",
    "        torch.save(model.state_dict(), model_full_path)"
   ],
   "metadata": {
    "collapsed": false,
    "pycharm": {
     "name": "#%%\n"
    }
   }
  },
  {
   "cell_type": "code",
   "execution_count": 9,
   "outputs": [],
   "source": [],
   "metadata": {
    "collapsed": false,
    "pycharm": {
     "name": "#%%\n"
    }
   }
  }
 ],
 "metadata": {
  "kernelspec": {
   "display_name": "Python 3",
   "language": "python",
   "name": "python3"
  },
  "language_info": {
   "codemirror_mode": {
    "name": "ipython",
    "version": 2
   },
   "file_extension": ".py",
   "mimetype": "text/x-python",
   "name": "python",
   "nbconvert_exporter": "python",
   "pygments_lexer": "ipython2",
   "version": "2.7.6"
  }
 },
 "nbformat": 4,
 "nbformat_minor": 0
}